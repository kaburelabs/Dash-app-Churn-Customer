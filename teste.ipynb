{
 "nbformat": 4,
 "nbformat_minor": 2,
 "metadata": {
  "language_info": {
   "name": "python",
   "codemirror_mode": {
    "name": "ipython",
    "version": 3
   },
   "version": "3.7.4-final"
  },
  "orig_nbformat": 2,
  "file_extension": ".py",
  "mimetype": "text/x-python",
  "name": "python",
  "npconvert_exporter": "python",
  "pygments_lexer": "ipython3",
  "version": 3,
  "kernelspec": {
   "name": "python37464bittfgpu2conda6e12222cc6934856b508ad1c5e99e82e",
   "display_name": "Python 3.7.4 64-bit ('tf_gpu2': conda)"
  }
 },
 "cells": [
  {
   "cell_type": "code",
   "execution_count": 1,
   "metadata": {},
   "outputs": [],
   "source": [
    "import pandas as pd\n",
    "\n",
    "# Import Dash Visualization Libraries\n",
    "import dash_core_components as dcc\n",
    "import dash_html_components as html\n",
    "import dash_table_experiments as dt\n",
    "import dash.dependencies\n",
    "from dash.dependencies import Input, Output, State\n",
    "import plotly\n",
    "from scipy import stats"
   ]
  },
  {
   "cell_type": "code",
   "execution_count": 2,
   "metadata": {},
   "outputs": [],
   "source": [
    "\n",
    "# Standard plotly imports\n",
    "# import plotly.plotly as py\n",
    "import plotly.graph_objs as go\n",
    "import plotly.tools as tls\n",
    "\n",
    "from plotly.offline import iplot, init_notebook_mode\n",
    "#import cufflinks\n",
    "#import cufflinks as cf\n",
    "import plotly.figure_factory as ff\n",
    "\n",
    "# Using plotly + cufflinks in offline mode\n",
    "#init_notebook_mode(connected=True)"
   ]
  },
  {
   "cell_type": "code",
   "execution_count": 3,
   "metadata": {},
   "outputs": [],
   "source": [
    "df_train = pd.read_csv('data/WA_Fn-UseC_-Telco-Customer-Churn.csv')"
   ]
  },
  {
   "cell_type": "code",
   "execution_count": 4,
   "metadata": {},
   "outputs": [
    {
     "data": {
      "text/html": "<div>\n<style scoped>\n    .dataframe tbody tr th:only-of-type {\n        vertical-align: middle;\n    }\n\n    .dataframe tbody tr th {\n        vertical-align: top;\n    }\n\n    .dataframe thead th {\n        text-align: right;\n    }\n</style>\n<table border=\"1\" class=\"dataframe\">\n  <thead>\n    <tr style=\"text-align: right;\">\n      <th></th>\n      <th>customerID</th>\n      <th>gender</th>\n      <th>SeniorCitizen</th>\n      <th>Partner</th>\n      <th>Dependents</th>\n      <th>tenure</th>\n      <th>PhoneService</th>\n      <th>MultipleLines</th>\n      <th>InternetService</th>\n      <th>OnlineSecurity</th>\n      <th>...</th>\n      <th>DeviceProtection</th>\n      <th>TechSupport</th>\n      <th>StreamingTV</th>\n      <th>StreamingMovies</th>\n      <th>Contract</th>\n      <th>PaperlessBilling</th>\n      <th>PaymentMethod</th>\n      <th>MonthlyCharges</th>\n      <th>TotalCharges</th>\n      <th>Churn</th>\n    </tr>\n  </thead>\n  <tbody>\n    <tr>\n      <th>0</th>\n      <td>7590-VHVEG</td>\n      <td>Female</td>\n      <td>0</td>\n      <td>Yes</td>\n      <td>No</td>\n      <td>1</td>\n      <td>No</td>\n      <td>No phone service</td>\n      <td>DSL</td>\n      <td>No</td>\n      <td>...</td>\n      <td>No</td>\n      <td>No</td>\n      <td>No</td>\n      <td>No</td>\n      <td>Month-to-month</td>\n      <td>Yes</td>\n      <td>Electronic check</td>\n      <td>29.85</td>\n      <td>29.85</td>\n      <td>No</td>\n    </tr>\n    <tr>\n      <th>1</th>\n      <td>5575-GNVDE</td>\n      <td>Male</td>\n      <td>0</td>\n      <td>No</td>\n      <td>No</td>\n      <td>34</td>\n      <td>Yes</td>\n      <td>No</td>\n      <td>DSL</td>\n      <td>Yes</td>\n      <td>...</td>\n      <td>Yes</td>\n      <td>No</td>\n      <td>No</td>\n      <td>No</td>\n      <td>One year</td>\n      <td>No</td>\n      <td>Mailed check</td>\n      <td>56.95</td>\n      <td>1889.5</td>\n      <td>No</td>\n    </tr>\n    <tr>\n      <th>2</th>\n      <td>3668-QPYBK</td>\n      <td>Male</td>\n      <td>0</td>\n      <td>No</td>\n      <td>No</td>\n      <td>2</td>\n      <td>Yes</td>\n      <td>No</td>\n      <td>DSL</td>\n      <td>Yes</td>\n      <td>...</td>\n      <td>No</td>\n      <td>No</td>\n      <td>No</td>\n      <td>No</td>\n      <td>Month-to-month</td>\n      <td>Yes</td>\n      <td>Mailed check</td>\n      <td>53.85</td>\n      <td>108.15</td>\n      <td>Yes</td>\n    </tr>\n    <tr>\n      <th>3</th>\n      <td>7795-CFOCW</td>\n      <td>Male</td>\n      <td>0</td>\n      <td>No</td>\n      <td>No</td>\n      <td>45</td>\n      <td>No</td>\n      <td>No phone service</td>\n      <td>DSL</td>\n      <td>Yes</td>\n      <td>...</td>\n      <td>Yes</td>\n      <td>Yes</td>\n      <td>No</td>\n      <td>No</td>\n      <td>One year</td>\n      <td>No</td>\n      <td>Bank transfer (automatic)</td>\n      <td>42.30</td>\n      <td>1840.75</td>\n      <td>No</td>\n    </tr>\n    <tr>\n      <th>4</th>\n      <td>9237-HQITU</td>\n      <td>Female</td>\n      <td>0</td>\n      <td>No</td>\n      <td>No</td>\n      <td>2</td>\n      <td>Yes</td>\n      <td>No</td>\n      <td>Fiber optic</td>\n      <td>No</td>\n      <td>...</td>\n      <td>No</td>\n      <td>No</td>\n      <td>No</td>\n      <td>No</td>\n      <td>Month-to-month</td>\n      <td>Yes</td>\n      <td>Electronic check</td>\n      <td>70.70</td>\n      <td>151.65</td>\n      <td>Yes</td>\n    </tr>\n  </tbody>\n</table>\n<p>5 rows × 21 columns</p>\n</div>",
      "text/plain": "   customerID  gender  SeniorCitizen Partner Dependents  tenure PhoneService  \\\n0  7590-VHVEG  Female              0     Yes         No       1           No   \n1  5575-GNVDE    Male              0      No         No      34          Yes   \n2  3668-QPYBK    Male              0      No         No       2          Yes   \n3  7795-CFOCW    Male              0      No         No      45           No   \n4  9237-HQITU  Female              0      No         No       2          Yes   \n\n      MultipleLines InternetService OnlineSecurity  ... DeviceProtection  \\\n0  No phone service             DSL             No  ...               No   \n1                No             DSL            Yes  ...              Yes   \n2                No             DSL            Yes  ...               No   \n3  No phone service             DSL            Yes  ...              Yes   \n4                No     Fiber optic             No  ...               No   \n\n  TechSupport StreamingTV StreamingMovies        Contract PaperlessBilling  \\\n0          No          No              No  Month-to-month              Yes   \n1          No          No              No        One year               No   \n2          No          No              No  Month-to-month              Yes   \n3         Yes          No              No        One year               No   \n4          No          No              No  Month-to-month              Yes   \n\n               PaymentMethod MonthlyCharges  TotalCharges Churn  \n0           Electronic check          29.85         29.85    No  \n1               Mailed check          56.95        1889.5    No  \n2               Mailed check          53.85        108.15   Yes  \n3  Bank transfer (automatic)          42.30       1840.75    No  \n4           Electronic check          70.70        151.65   Yes  \n\n[5 rows x 21 columns]"
     },
     "execution_count": 4,
     "metadata": {},
     "output_type": "execute_result"
    }
   ],
   "source": [
    "df_train.head()"
   ]
  },
  {
   "cell_type": "code",
   "execution_count": 5,
   "metadata": {},
   "outputs": [],
   "source": [
    "def resumetable(df):\n",
    "    print(f\"Dataset Shape: {df.shape}\")\n",
    "    summary = pd.DataFrame(df.dtypes,columns=['dtypes'])\n",
    "    summary = summary.reset_index()\n",
    "    summary['Name'] = summary['index']\n",
    "    summary = summary[['Name','dtypes']]\n",
    "    summary['Missing'] = df.isnull().sum().values    \n",
    "    summary['Uniques'] = df.nunique().values\n",
    "    summary['First Value'] = df.loc[0].values\n",
    "    summary['Second Value'] = df.loc[1].values\n",
    "    summary['Third Value'] = df.loc[2].values\n",
    "\n",
    "    for name in summary['Name'].value_counts().index:\n",
    "        summary.loc[summary['Name'] == name, 'Entropy'] = round(stats.entropy(df[name].value_counts(normalize=True), base=10),2) \n",
    "\n",
    "    return summary"
   ]
  },
  {
   "cell_type": "code",
   "execution_count": null,
   "metadata": {},
   "outputs": [],
   "source": []
  },
  {
   "cell_type": "code",
   "execution_count": 9,
   "metadata": {},
   "outputs": [
    {
     "name": "stdout",
     "output_type": "stream",
     "text": "Dataset Shape: (7043, 21)\n"
    },
    {
     "data": {
      "text/html": "<div>\n<style scoped>\n    .dataframe tbody tr th:only-of-type {\n        vertical-align: middle;\n    }\n\n    .dataframe tbody tr th {\n        vertical-align: top;\n    }\n\n    .dataframe thead th {\n        text-align: right;\n    }\n</style>\n<table border=\"1\" class=\"dataframe\">\n  <thead>\n    <tr style=\"text-align: right;\">\n      <th></th>\n      <th>Name</th>\n      <th>dtypes</th>\n      <th>Missing</th>\n      <th>Uniques</th>\n      <th>First Value</th>\n      <th>Second Value</th>\n      <th>Third Value</th>\n      <th>Entropy</th>\n    </tr>\n  </thead>\n  <tbody>\n    <tr>\n      <th>0</th>\n      <td>customerID</td>\n      <td>object</td>\n      <td>0</td>\n      <td>7043</td>\n      <td>7590-VHVEG</td>\n      <td>5575-GNVDE</td>\n      <td>3668-QPYBK</td>\n      <td>3.85</td>\n    </tr>\n    <tr>\n      <th>1</th>\n      <td>gender</td>\n      <td>object</td>\n      <td>0</td>\n      <td>2</td>\n      <td>Female</td>\n      <td>Male</td>\n      <td>Male</td>\n      <td>0.30</td>\n    </tr>\n    <tr>\n      <th>2</th>\n      <td>SeniorCitizen</td>\n      <td>int64</td>\n      <td>0</td>\n      <td>2</td>\n      <td>0</td>\n      <td>0</td>\n      <td>0</td>\n      <td>0.19</td>\n    </tr>\n    <tr>\n      <th>3</th>\n      <td>Partner</td>\n      <td>object</td>\n      <td>0</td>\n      <td>2</td>\n      <td>Yes</td>\n      <td>No</td>\n      <td>No</td>\n      <td>0.30</td>\n    </tr>\n    <tr>\n      <th>4</th>\n      <td>Dependents</td>\n      <td>object</td>\n      <td>0</td>\n      <td>2</td>\n      <td>No</td>\n      <td>No</td>\n      <td>No</td>\n      <td>0.27</td>\n    </tr>\n    <tr>\n      <th>5</th>\n      <td>tenure</td>\n      <td>int64</td>\n      <td>0</td>\n      <td>73</td>\n      <td>1</td>\n      <td>34</td>\n      <td>2</td>\n      <td>1.78</td>\n    </tr>\n    <tr>\n      <th>6</th>\n      <td>PhoneService</td>\n      <td>object</td>\n      <td>0</td>\n      <td>2</td>\n      <td>No</td>\n      <td>Yes</td>\n      <td>Yes</td>\n      <td>0.14</td>\n    </tr>\n    <tr>\n      <th>7</th>\n      <td>MultipleLines</td>\n      <td>object</td>\n      <td>0</td>\n      <td>3</td>\n      <td>No phone service</td>\n      <td>No</td>\n      <td>No</td>\n      <td>0.41</td>\n    </tr>\n    <tr>\n      <th>8</th>\n      <td>InternetService</td>\n      <td>object</td>\n      <td>0</td>\n      <td>3</td>\n      <td>DSL</td>\n      <td>DSL</td>\n      <td>DSL</td>\n      <td>0.46</td>\n    </tr>\n    <tr>\n      <th>9</th>\n      <td>OnlineSecurity</td>\n      <td>object</td>\n      <td>0</td>\n      <td>3</td>\n      <td>No</td>\n      <td>Yes</td>\n      <td>Yes</td>\n      <td>0.45</td>\n    </tr>\n    <tr>\n      <th>10</th>\n      <td>OnlineBackup</td>\n      <td>object</td>\n      <td>0</td>\n      <td>3</td>\n      <td>Yes</td>\n      <td>No</td>\n      <td>Yes</td>\n      <td>0.46</td>\n    </tr>\n    <tr>\n      <th>11</th>\n      <td>DeviceProtection</td>\n      <td>object</td>\n      <td>0</td>\n      <td>3</td>\n      <td>No</td>\n      <td>Yes</td>\n      <td>No</td>\n      <td>0.46</td>\n    </tr>\n    <tr>\n      <th>12</th>\n      <td>TechSupport</td>\n      <td>object</td>\n      <td>0</td>\n      <td>3</td>\n      <td>No</td>\n      <td>No</td>\n      <td>No</td>\n      <td>0.45</td>\n    </tr>\n    <tr>\n      <th>13</th>\n      <td>StreamingTV</td>\n      <td>object</td>\n      <td>0</td>\n      <td>3</td>\n      <td>No</td>\n      <td>No</td>\n      <td>No</td>\n      <td>0.46</td>\n    </tr>\n    <tr>\n      <th>14</th>\n      <td>StreamingMovies</td>\n      <td>object</td>\n      <td>0</td>\n      <td>3</td>\n      <td>No</td>\n      <td>No</td>\n      <td>No</td>\n      <td>0.46</td>\n    </tr>\n    <tr>\n      <th>15</th>\n      <td>Contract</td>\n      <td>object</td>\n      <td>0</td>\n      <td>3</td>\n      <td>Month-to-month</td>\n      <td>One year</td>\n      <td>Month-to-month</td>\n      <td>0.43</td>\n    </tr>\n    <tr>\n      <th>16</th>\n      <td>PaperlessBilling</td>\n      <td>object</td>\n      <td>0</td>\n      <td>2</td>\n      <td>Yes</td>\n      <td>No</td>\n      <td>Yes</td>\n      <td>0.29</td>\n    </tr>\n    <tr>\n      <th>17</th>\n      <td>PaymentMethod</td>\n      <td>object</td>\n      <td>0</td>\n      <td>4</td>\n      <td>Electronic check</td>\n      <td>Mailed check</td>\n      <td>Mailed check</td>\n      <td>0.59</td>\n    </tr>\n    <tr>\n      <th>18</th>\n      <td>MonthlyCharges</td>\n      <td>float64</td>\n      <td>0</td>\n      <td>1585</td>\n      <td>29.85</td>\n      <td>56.95</td>\n      <td>53.85</td>\n      <td>3.02</td>\n    </tr>\n    <tr>\n      <th>19</th>\n      <td>TotalCharges</td>\n      <td>object</td>\n      <td>0</td>\n      <td>6531</td>\n      <td>29.85</td>\n      <td>1889.5</td>\n      <td>108.15</td>\n      <td>3.80</td>\n    </tr>\n    <tr>\n      <th>20</th>\n      <td>Churn</td>\n      <td>object</td>\n      <td>0</td>\n      <td>2</td>\n      <td>No</td>\n      <td>No</td>\n      <td>Yes</td>\n      <td>0.25</td>\n    </tr>\n  </tbody>\n</table>\n</div>",
      "text/plain": "                Name   dtypes  Missing  Uniques       First Value  \\\n0         customerID   object        0     7043        7590-VHVEG   \n1             gender   object        0        2            Female   \n2      SeniorCitizen    int64        0        2                 0   \n3            Partner   object        0        2               Yes   \n4         Dependents   object        0        2                No   \n5             tenure    int64        0       73                 1   \n6       PhoneService   object        0        2                No   \n7      MultipleLines   object        0        3  No phone service   \n8    InternetService   object        0        3               DSL   \n9     OnlineSecurity   object        0        3                No   \n10      OnlineBackup   object        0        3               Yes   \n11  DeviceProtection   object        0        3                No   \n12       TechSupport   object        0        3                No   \n13       StreamingTV   object        0        3                No   \n14   StreamingMovies   object        0        3                No   \n15          Contract   object        0        3    Month-to-month   \n16  PaperlessBilling   object        0        2               Yes   \n17     PaymentMethod   object        0        4  Electronic check   \n18    MonthlyCharges  float64        0     1585             29.85   \n19      TotalCharges   object        0     6531             29.85   \n20             Churn   object        0        2                No   \n\n    Second Value     Third Value  Entropy  \n0     5575-GNVDE      3668-QPYBK     3.85  \n1           Male            Male     0.30  \n2              0               0     0.19  \n3             No              No     0.30  \n4             No              No     0.27  \n5             34               2     1.78  \n6            Yes             Yes     0.14  \n7             No              No     0.41  \n8            DSL             DSL     0.46  \n9            Yes             Yes     0.45  \n10            No             Yes     0.46  \n11           Yes              No     0.46  \n12            No              No     0.45  \n13            No              No     0.46  \n14            No              No     0.46  \n15      One year  Month-to-month     0.43  \n16            No             Yes     0.29  \n17  Mailed check    Mailed check     0.59  \n18         56.95           53.85     3.02  \n19        1889.5          108.15     3.80  \n20            No             Yes     0.25  "
     },
     "execution_count": 9,
     "metadata": {},
     "output_type": "execute_result"
    }
   ],
   "source": [
    "resumetable(df_train)"
   ]
  },
  {
   "cell_type": "code",
   "execution_count": 31,
   "metadata": {},
   "outputs": [],
   "source": [
    "trace0 = go.Bar(\n",
    "    x=df_train.groupby('Churn')['customerID'].count().index,\n",
    "    y=df_train.groupby('Churn')['customerID'].count().values,\n",
    "    marker=dict(\n",
    "        color=['indianred', 'seagreen']),\n",
    ")\n",
    "trace1 = go.Bar(\n",
    "    x=df_train.groupby('PhoneService')['customerID'].count().index,\n",
    "    y=df_train.groupby('PhoneService')['customerID'].count().values,\n",
    "    marker=dict(\n",
    "        color=['indianred', 'seagreen']),\n",
    ")\n",
    "data = [trace0]\n",
    "\n",
    "layout = go.Layout(\n",
    "    title='Churn (Target) Distribution', \n",
    "    titlefont=dict(\n",
    "            family='Courier New, monospace',\n",
    "            size=20,\n",
    "            color='#7f7f7f'\n",
    "        ),\n",
    "    xaxis=dict(\n",
    "        title='Customer Churn?', titlefont=dict(\n",
    "            family='Courier New, monospace',\n",
    "            size=20,\n",
    "            color='#7f7f7f'\n",
    "        )),\n",
    "    yaxis=dict(\n",
    "        title='Count', titlefont=dict(\n",
    "            family='Courier New, monospace',\n",
    "            size=20,\n",
    "            color='#7f7f7f'\n",
    "        )), \n",
    "    plot_bgcolor=colors['background'],\n",
    "    paper_bgcolor=colors['background'],\n",
    "    font=dict(color=colors['text'],\n",
    "    #margin=dict(l=50, r=2,t=40, b=1)\n",
    "    )      \n",
    ")\n",
    "\n",
    "layout2 = go.Layout(\n",
    "    title='Churn (Target) Di22stribution', \n",
    "    titlefont=dict(\n",
    "            family='Courier New, monospace',\n",
    "            size=20,\n",
    "            color='#7f7f7f'\n",
    "        ),\n",
    "    xaxis=dict(\n",
    "        title='Customer Churn?', titlefont=dict(\n",
    "            family='Courier New, monospace',\n",
    "            size=20,\n",
    "            color='#7f7f7f'\n",
    "        )),\n",
    "    yaxis=dict(\n",
    "        title='Count', titlefont=dict(\n",
    "            family='Courier New, monospace',\n",
    "            size=20,\n",
    "            color='#7f7f7f'\n",
    "        )), \n",
    "    plot_bgcolor=colors['background'],\n",
    "    paper_bgcolor=colors['background'],\n",
    "    font=dict(color=colors['text'],\n",
    "    #margin=dict(l=50, r=2,t=40, b=1)\n",
    "    )      \n",
    ")\n",
    "\n",
    "#fig = go.Figure(data=data, layout=layout)"
   ]
  },
  {
   "cell_type": "code",
   "execution_count": 42,
   "metadata": {},
   "outputs": [],
   "source": [
    "\n",
    "app = dash.Dash()\n",
    "\n",
    "\n",
    "app.css.append_css({'external_url': 'https://codepen.io/amyoshino/pen/jzXypZ.css'})\n",
    "\n",
    "colors = {\n",
    "    'background': '#111111',\n",
    "    'text': '#7f7f7f'\n",
    "}\n",
    "\n",
    "cat_features = [ 'gender', 'SeniorCitizen', 'Partner',\n",
    "                 'Dependents', 'PaperlessBilling', 'PhoneService', \n",
    "                 'Contract', 'StreamingMovies', 'StreamingTV', \n",
    "                 'TechSupport', 'OnlineBackup', 'OnlineSecurity',\n",
    "                 'InternetService', 'MultipleLines', 'DeviceProtection', \n",
    "                 'PaymentMethod']\n",
    "\n",
    "app.layout = html.Div(\n",
    "                html.Div(\n",
    "                  style={'backgroundColor': colors['background']},\n",
    "                  children=[\n",
    "                            html.H1(\n",
    "                                    children='Hello Dash',\n",
    "                                            style={\n",
    "                                                    'textAlign': 'center',\n",
    "                                                    'color': colors['text'],\n",
    "                                                    #\"height\" : \"25%\", \"width\" : \"10%\"\n",
    "                                                }\n",
    "                            ),\n",
    "                            \n",
    "                html.Div(children='Dash: A web application framework for Python.', \n",
    "                        style={'textAlign': 'center',\n",
    "                                'color': colors['text']}),\n",
    "                    html.Div([\n",
    "                                dcc.Graph(\n",
    "                                    id='Graph1',\n",
    "                                    figure={'data':[trace0], 'layout':layout}, \n",
    "                                ),\n",
    "                                dcc.Graph(\n",
    "                                    id='Graph2',\n",
    "                                    figure={'data':[trace1], 'layout':layout2}, \n",
    "                                )\n",
    "                            ], style={'width':'100%','display':'inline-block'},\n",
    "                              className='six columns')\n",
    "                        ]))\n"
   ]
  },
  {
   "cell_type": "code",
   "execution_count": 43,
   "metadata": {},
   "outputs": [
    {
     "name": "stdout",
     "output_type": "stream",
     "text": "* Serving Flask app \"__main__\" (lazy loading)\n * Environment: production\n   WARNING: This is a development server. Do not use it in a production deployment.\n   Use a production WSGI server instead.\n * Debug mode: off\n * Running on http://127.0.0.1:8050/ (Press CTRL+C to quit)\n/home/leonardo/anaconda3/envs/tf_gpu2/lib/python3.7/site-packages/dash/resources.py:75: UserWarning:\n\nYou have set your config to `serve_locally=True` but A local version of https://codepen.io/amyoshino/pen/jzXypZ.css is not available.\nIf you added this file with `app.scripts.append_script` or `app.css.append_css`, use `external_scripts` or `external_stylesheets` instead.\nSee https://dash.plot.ly/external-resources\n\n127.0.0.1 - - [10/Feb/2020 22:38:20] \"\u001b[37mGET / HTTP/1.1\u001b[0m\" 200 -\n127.0.0.1 - - [10/Feb/2020 22:38:21] \"\u001b[37mGET /_dash-layout HTTP/1.1\u001b[0m\" 200 -\n127.0.0.1 - - [10/Feb/2020 22:38:21] \"\u001b[37mGET /_dash-dependencies HTTP/1.1\u001b[0m\" 200 -\n127.0.0.1 - - [10/Feb/2020 22:38:21] \"\u001b[37mGET /_favicon.ico?v=1.8.0 HTTP/1.1\u001b[0m\" 200 -\n127.0.0.1 - - [10/Feb/2020 22:38:24] \"\u001b[37mGET / HTTP/1.1\u001b[0m\" 200 -\n127.0.0.1 - - [10/Feb/2020 22:38:25] \"\u001b[37mGET /_dash-layout HTTP/1.1\u001b[0m\" 200 -\n127.0.0.1 - - [10/Feb/2020 22:38:25] \"\u001b[37mGET /_dash-dependencies HTTP/1.1\u001b[0m\" 200 -\n127.0.0.1 - - [10/Feb/2020 22:38:25] \"\u001b[37mGET /_favicon.ico?v=1.8.0 HTTP/1.1\u001b[0m\" 200 -\n"
    }
   ],
   "source": [
    "if __name__ == '__main__':\n",
    "    app.run_server(debug=False)"
   ]
  },
  {
   "cell_type": "code",
   "execution_count": null,
   "metadata": {},
   "outputs": [],
   "source": []
  },
  {
   "cell_type": "code",
   "execution_count": 0,
   "metadata": {},
   "outputs": [],
   "source": [
    "app.layout = html.Div([\n",
    "    html.Label('Hours per Day'),\n",
    "    dcc.Slider(id='hours', value=5, min=0, max=24, step=1),\n",
    "html.Label('Rate'),\n",
    "    dcc.Input(id='rate', value=2, type='number'),\n",
    "html.Br(),\n",
    "html.Label('Amount per Day'),\n",
    "    html.Div(id='amount'),\n",
    "html.Label('Amount per Week'),\n",
    "    html.Div(id='amount-per-week')\n",
    "])\n",
    "@app.callback(Output('amount', 'children'),\n",
    "              [Input('hours', 'value'), Input('rate', 'value')])\n",
    "def compute_amount(hours, rate):\n",
    "    return float(hours) * float(rate)\n",
    "@app.callback(Output('amount-per-week', 'children'),\n",
    "              [Input('amount', 'children')])\n",
    "def compute_amount(amount):\n",
    "    return float(amount) * 7"
   ]
  },
  {
   "cell_type": "code",
   "execution_count": 0,
   "metadata": {},
   "outputs": [],
   "source": [
    "if __name__ == '__main__':\n",
    "    app.run_server(debug=False)"
   ]
  },
  {
   "cell_type": "code",
   "execution_count": null,
   "metadata": {},
   "outputs": [],
   "source": []
  },
  {
   "cell_type": "code",
   "execution_count": null,
   "metadata": {},
   "outputs": [],
   "source": []
  }
 ]
}